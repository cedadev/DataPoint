{
 "cells": [
  {
   "cell_type": "markdown",
   "metadata": {},
   "source": [
    "# CEDA DataPoint - Demonstration\n",
    "\n",
    "The CEDA DataPoint module wraps both the ``pystac_client`` and ``xarray`` packages into a single container for searching and accessing data. This notebook shows how methods function in DataPoint."
   ]
  },
  {
   "cell_type": "code",
   "execution_count": null,
   "metadata": {
    "vscode": {
     "languageId": "plaintext"
    }
   },
   "outputs": [],
   "source": [
    "from datapoint import DataPoint\n",
    "\n",
    "client = DataPoint() # All public connection kwargs are known by default for CEDA"
   ]
  },
  {
   "cell_type": "code",
   "execution_count": null,
   "metadata": {
    "vscode": {
     "languageId": "plaintext"
    }
   },
   "outputs": [],
   "source": [
    "# Same as normal for pystac_client\n",
    "\n",
    "for coll in client.get_collections():\n",
    "    print(f\"{coll.id}: {coll.description}\")\n",
    "\n",
    "# Return a new client with a specified collection to search for - or results from pystac_client? (Could load lazily?)\n",
    "sentinel2_ard = client.get_collection('sentinel2_ard')\n",
    "\n",
    "# Make this a function or similar.\n",
    "sentinel2_ard.extent.spatial.bboxes"
   ]
  },
  {
   "cell_type": "code",
   "execution_count": null,
   "metadata": {
    "vscode": {
     "languageId": "plaintext"
    }
   },
   "outputs": [],
   "source": [
    "# Returns a new datapoint.SearchResult object. Inheritance for DataPoint, SearchResult from a general object type.\n",
    "item_search = client.search(\n",
    "    collections=['sentinel2_ard'],\n",
    "    datetime=\"2023-01-01/2023-02-28\",\n",
    "    max_items=10,\n",
    ")"
   ]
  },
  {
   "cell_type": "code",
   "execution_count": null,
   "metadata": {
    "vscode": {
     "languageId": "plaintext"
    }
   },
   "outputs": [],
   "source": [
    "items = list(item_search.items())\n",
    "items"
   ]
  },
  {
   "cell_type": "code",
   "execution_count": null,
   "metadata": {
    "vscode": {
     "languageId": "plaintext"
    }
   },
   "outputs": [],
   "source": [
    "# Make all the properties into actual class properties?\n",
    "for item in items:\n",
    "    print(item.properties[\"start_datetime\"], item.properties[\"end_datetime\"])"
   ]
  },
  {
   "cell_type": "code",
   "execution_count": null,
   "metadata": {
    "vscode": {
     "languageId": "plaintext"
    }
   },
   "outputs": [],
   "source": [
    "# Useful method for matching to catalog\n",
    "item_search.url_with_parameters()\n",
    "item_search.get_dois() # List item DOIs"
   ]
  },
  {
   "cell_type": "code",
   "execution_count": null,
   "metadata": {
    "vscode": {
     "languageId": "plaintext"
    }
   },
   "outputs": [],
   "source": [
    "# Assemble xarray and other datasets\n",
    "item_search.get_datasets()\n",
    "\n",
    "# Could have datasets from multiple sources in the same Xarray object?"
   ]
  }
 ],
 "metadata": {
  "language_info": {
   "name": "python"
  }
 },
 "nbformat": 4,
 "nbformat_minor": 2
}
